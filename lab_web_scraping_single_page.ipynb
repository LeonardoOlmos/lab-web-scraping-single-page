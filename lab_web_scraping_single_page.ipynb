{
 "cells": [
  {
   "cell_type": "markdown",
   "id": "0f8f0b54-ea3a-42eb-8db4-2de16d3b7634",
   "metadata": {},
   "source": [
    "# Lab | Web Scraping Single Page"
   ]
  },
  {
   "cell_type": "code",
   "execution_count": 1,
   "id": "2062a202-843a-4e74-a0f2-4c102d6f0c47",
   "metadata": {},
   "outputs": [],
   "source": [
    "import pandas as pd\n",
    "import numpy as np\n",
    "import requests\n",
    "import re \n",
    "\n",
    "from bs4 import BeautifulSoup"
   ]
  },
  {
   "cell_type": "code",
   "execution_count": 2,
   "id": "4b00a2a5-0eb2-4867-8828-ea125c5cbdc9",
   "metadata": {},
   "outputs": [],
   "source": [
    "url = \"https://www.billboard.com/charts/hot-100/\""
   ]
  },
  {
   "cell_type": "code",
   "execution_count": 3,
   "id": "5aac1f5c-1d98-42b4-a7d9-c8d4961b0422",
   "metadata": {},
   "outputs": [],
   "source": [
    "response = requests.get(url)"
   ]
  },
  {
   "cell_type": "code",
   "execution_count": 4,
   "id": "f21c8a0a-6191-4e92-868a-26b34e063cfd",
   "metadata": {},
   "outputs": [],
   "source": [
    "def get_data_parsed(response):\n",
    "    if response.status_code != 200:\n",
    "        return np.NaN\n",
    "    \n",
    "    return BeautifulSoup(response.content, \"html.parser\")"
   ]
  },
  {
   "cell_type": "code",
   "execution_count": 5,
   "id": "23db3567-e4f8-4a49-b4bb-f30a882de3e5",
   "metadata": {},
   "outputs": [],
   "source": [
    "data = get_data_parsed(response)"
   ]
  },
  {
   "cell_type": "code",
   "execution_count": 6,
   "id": "49adde05-2c2c-43a1-960b-baf79fd02da3",
   "metadata": {},
   "outputs": [],
   "source": [
    "#data"
   ]
  },
  {
   "cell_type": "code",
   "execution_count": 7,
   "id": "985ecd8d-40a9-4265-9413-b5c55b81bb50",
   "metadata": {},
   "outputs": [],
   "source": [
    "span_tags = data.find_all(\"span\")"
   ]
  },
  {
   "cell_type": "code",
   "execution_count": 8,
   "id": "8f0ae2d6-8470-4faa-9346-9fd0b0d1c8c5",
   "metadata": {},
   "outputs": [],
   "source": [
    "spans = []\n",
    "\n",
    "for span in span_tags:\n",
    "    if span.text.lstrip().rstrip() != '':\n",
    "        spans.append(span.text)"
   ]
  },
  {
   "cell_type": "code",
   "execution_count": 9,
   "id": "d77522df-2785-4362-abee-fd392af964e2",
   "metadata": {},
   "outputs": [],
   "source": [
    "new_spans = []\n",
    "\n",
    "for span in spans:\n",
    "    if \"\\n\" in span:\n",
    "        new_spans.append(span)"
   ]
  },
  {
   "cell_type": "code",
   "execution_count": 10,
   "id": "c6a3d05c-7368-4843-8211-06b2006e723d",
   "metadata": {},
   "outputs": [],
   "source": [
    "pattern_content = r'\\n\\t\\n\\t(.+?)\\n'"
   ]
  },
  {
   "cell_type": "code",
   "execution_count": 11,
   "id": "616cb010-1066-4fd4-8a99-8025de09f969",
   "metadata": {},
   "outputs": [],
   "source": [
    "pattern_headers = r'\\n{2}\\t(.+?)\\n'"
   ]
  },
  {
   "cell_type": "code",
   "execution_count": 12,
   "id": "489d5924-b42e-4a35-9f7f-ece192df448a",
   "metadata": {},
   "outputs": [],
   "source": [
    "headers = []"
   ]
  },
  {
   "cell_type": "code",
   "execution_count": 13,
   "id": "36f25230-3bc1-4d06-aafe-1322c8e46c98",
   "metadata": {},
   "outputs": [],
   "source": [
    "for span in new_spans:\n",
    "    if re.findall(pattern_headers, span):\n",
    "        headers.append(span)"
   ]
  },
  {
   "cell_type": "code",
   "execution_count": 14,
   "id": "7840370f-7c24-489e-a880-c5b008a9f6da",
   "metadata": {},
   "outputs": [],
   "source": [
    "headers = headers[9:14]"
   ]
  },
  {
   "cell_type": "code",
   "execution_count": 15,
   "id": "394b5bdd-7ed2-4430-88cd-91c809f25b22",
   "metadata": {},
   "outputs": [],
   "source": [
    "headers = [header.replace('\\n', '').replace('\\t', '') for header in headers]"
   ]
  },
  {
   "cell_type": "code",
   "execution_count": 16,
   "id": "a0faf15a-1c74-4be1-b05b-70e220bd3110",
   "metadata": {},
   "outputs": [],
   "source": [
    "cols = ['Rank', 'Artist']"
   ]
  },
  {
   "cell_type": "code",
   "execution_count": 17,
   "id": "12f9b9b0-9553-4609-9aef-07f720c78533",
   "metadata": {},
   "outputs": [],
   "source": [
    "headers = headers[2:]"
   ]
  },
  {
   "cell_type": "code",
   "execution_count": 18,
   "id": "bf7a0616-9d0e-4012-818d-773bfc819d69",
   "metadata": {},
   "outputs": [],
   "source": [
    "cols.extend(headers)"
   ]
  },
  {
   "cell_type": "code",
   "execution_count": 19,
   "id": "15c1044d-853d-4c2c-89e9-ffb24f43f733",
   "metadata": {},
   "outputs": [],
   "source": [
    "content = []"
   ]
  },
  {
   "cell_type": "code",
   "execution_count": 20,
   "id": "84779586-5a9f-4d23-acb9-db7860deb51f",
   "metadata": {},
   "outputs": [],
   "source": [
    "for span in new_spans:\n",
    "    if re.findall(pattern_content, span):\n",
    "        content.append(span)"
   ]
  },
  {
   "cell_type": "code",
   "execution_count": 21,
   "id": "3627d828-e56b-4ac8-83e2-f22649c6fff8",
   "metadata": {},
   "outputs": [],
   "source": [
    "content = content[3:]"
   ]
  },
  {
   "cell_type": "code",
   "execution_count": 22,
   "id": "e7d9c033-fefd-4992-8563-f06bfe27fb7a",
   "metadata": {},
   "outputs": [],
   "source": [
    "content = [row.replace('\\n', '').replace('\\t', '') if 'NEW' not in row else '' for row in content ]"
   ]
  },
  {
   "cell_type": "code",
   "execution_count": 23,
   "id": "d9ac563f-2612-43c3-8a9b-60c2430c7353",
   "metadata": {},
   "outputs": [],
   "source": [
    "content = [row.replace('\\n', '').replace('\\t', '') if 'RE-ENTRY' not in row else '' for row in content ]"
   ]
  },
  {
   "cell_type": "code",
   "execution_count": 24,
   "id": "7cb02c98-2eaf-4999-8342-4d2fe527a78e",
   "metadata": {},
   "outputs": [],
   "source": [
    "content = [row for row in content  if row != '']"
   ]
  },
  {
   "cell_type": "code",
   "execution_count": 25,
   "id": "bfa8575a-8ddc-41c0-b432-5e9f291d2992",
   "metadata": {},
   "outputs": [],
   "source": [
    "subarrays = [content[i:i+8] for i in range(0, len(content), 8)]\n",
    "    \n",
    "songs = [song[0:5] for song in subarrays]"
   ]
  },
  {
   "cell_type": "code",
   "execution_count": 26,
   "id": "7030923e-85d3-4251-afdd-8ab258f29d29",
   "metadata": {},
   "outputs": [],
   "source": [
    "list_songs = pd.DataFrame(songs[:], columns=cols)"
   ]
  },
  {
   "cell_type": "code",
   "execution_count": 27,
   "id": "bd1b83f8-064d-430e-aac8-298f9c592267",
   "metadata": {},
   "outputs": [],
   "source": [
    "songs_soup = data.select(\"h3.a-no-trucate\")"
   ]
  },
  {
   "cell_type": "code",
   "execution_count": 28,
   "id": "42741843-7e52-4efe-b694-a22994fa039a",
   "metadata": {},
   "outputs": [
    {
     "data": {
      "text/plain": [
       "bs4.element.ResultSet"
      ]
     },
     "execution_count": 28,
     "metadata": {},
     "output_type": "execute_result"
    }
   ],
   "source": [
    "type(songs_soup)"
   ]
  },
  {
   "cell_type": "code",
   "execution_count": 29,
   "id": "812918f6-c247-4f5e-a9df-bc90c75a2b74",
   "metadata": {},
   "outputs": [],
   "source": [
    "final_songs = []\n",
    "\n",
    "for song in songs_soup:\n",
    "    final_songs.append(song.text.replace('\\n', '').replace('\\t', ''))"
   ]
  },
  {
   "cell_type": "code",
   "execution_count": 30,
   "id": "25ab6012-550a-4b6c-b8a0-c7cb33b7fd69",
   "metadata": {},
   "outputs": [],
   "source": [
    "songs_df = pd.DataFrame(final_songs, columns=['Song'])"
   ]
  },
  {
   "cell_type": "code",
   "execution_count": 31,
   "id": "ffb60c08-a104-4a6a-9e78-2aff6d17e6ef",
   "metadata": {},
   "outputs": [
    {
     "data": {
      "text/html": [
       "<div>\n",
       "<style scoped>\n",
       "    .dataframe tbody tr th:only-of-type {\n",
       "        vertical-align: middle;\n",
       "    }\n",
       "\n",
       "    .dataframe tbody tr th {\n",
       "        vertical-align: top;\n",
       "    }\n",
       "\n",
       "    .dataframe thead th {\n",
       "        text-align: right;\n",
       "    }\n",
       "</style>\n",
       "<table border=\"1\" class=\"dataframe\">\n",
       "  <thead>\n",
       "    <tr style=\"text-align: right;\">\n",
       "      <th></th>\n",
       "      <th>Song</th>\n",
       "    </tr>\n",
       "  </thead>\n",
       "  <tbody>\n",
       "    <tr>\n",
       "      <th>0</th>\n",
       "      <td>Last Night</td>\n",
       "    </tr>\n",
       "    <tr>\n",
       "      <th>1</th>\n",
       "      <td>Fast Car</td>\n",
       "    </tr>\n",
       "    <tr>\n",
       "      <th>2</th>\n",
       "      <td>Meltdown</td>\n",
       "    </tr>\n",
       "    <tr>\n",
       "      <th>3</th>\n",
       "      <td>Cruel Summer</td>\n",
       "    </tr>\n",
       "    <tr>\n",
       "      <th>4</th>\n",
       "      <td>FE!N</td>\n",
       "    </tr>\n",
       "    <tr>\n",
       "      <th>...</th>\n",
       "      <td>...</td>\n",
       "    </tr>\n",
       "    <tr>\n",
       "      <th>95</th>\n",
       "      <td>Oh U Went</td>\n",
       "    </tr>\n",
       "    <tr>\n",
       "      <th>96</th>\n",
       "      <td>ICU</td>\n",
       "    </tr>\n",
       "    <tr>\n",
       "      <th>97</th>\n",
       "      <td>Pound Town 2</td>\n",
       "    </tr>\n",
       "    <tr>\n",
       "      <th>98</th>\n",
       "      <td>Bzrp Music Sessions, Vol. 55</td>\n",
       "    </tr>\n",
       "    <tr>\n",
       "      <th>99</th>\n",
       "      <td>Johnny Dang</td>\n",
       "    </tr>\n",
       "  </tbody>\n",
       "</table>\n",
       "<p>100 rows × 1 columns</p>\n",
       "</div>"
      ],
      "text/plain": [
       "                            Song\n",
       "0                     Last Night\n",
       "1                       Fast Car\n",
       "2                       Meltdown\n",
       "3                   Cruel Summer\n",
       "4                           FE!N\n",
       "..                           ...\n",
       "95                     Oh U Went\n",
       "96                           ICU\n",
       "97                  Pound Town 2\n",
       "98  Bzrp Music Sessions, Vol. 55\n",
       "99                   Johnny Dang\n",
       "\n",
       "[100 rows x 1 columns]"
      ]
     },
     "execution_count": 31,
     "metadata": {},
     "output_type": "execute_result"
    }
   ],
   "source": [
    "songs_df"
   ]
  },
  {
   "cell_type": "code",
   "execution_count": 32,
   "id": "03654394-c683-454c-8dfb-764be17b6f98",
   "metadata": {},
   "outputs": [],
   "source": [
    "final_data = pd.concat([list_songs, songs_df], axis=1)"
   ]
  },
  {
   "cell_type": "code",
   "execution_count": 33,
   "id": "a184992b-8de4-44cd-b606-b7c16f9e6429",
   "metadata": {},
   "outputs": [
    {
     "data": {
      "text/html": [
       "<div>\n",
       "<style scoped>\n",
       "    .dataframe tbody tr th:only-of-type {\n",
       "        vertical-align: middle;\n",
       "    }\n",
       "\n",
       "    .dataframe tbody tr th {\n",
       "        vertical-align: top;\n",
       "    }\n",
       "\n",
       "    .dataframe thead th {\n",
       "        text-align: right;\n",
       "    }\n",
       "</style>\n",
       "<table border=\"1\" class=\"dataframe\">\n",
       "  <thead>\n",
       "    <tr style=\"text-align: right;\">\n",
       "      <th></th>\n",
       "      <th>Rank</th>\n",
       "      <th>Artist</th>\n",
       "      <th>Last Week</th>\n",
       "      <th>Peak Pos.</th>\n",
       "      <th>Wks on Chart</th>\n",
       "      <th>Song</th>\n",
       "    </tr>\n",
       "  </thead>\n",
       "  <tbody>\n",
       "    <tr>\n",
       "      <th>0</th>\n",
       "      <td>1</td>\n",
       "      <td>Morgan Wallen</td>\n",
       "      <td>2</td>\n",
       "      <td>1</td>\n",
       "      <td>27</td>\n",
       "      <td>Last Night</td>\n",
       "    </tr>\n",
       "    <tr>\n",
       "      <th>1</th>\n",
       "      <td>2</td>\n",
       "      <td>Luke Combs</td>\n",
       "      <td>3</td>\n",
       "      <td>2</td>\n",
       "      <td>19</td>\n",
       "      <td>Fast Car</td>\n",
       "    </tr>\n",
       "    <tr>\n",
       "      <th>2</th>\n",
       "      <td>3</td>\n",
       "      <td>Travis Scott Featuring Drake</td>\n",
       "      <td>-</td>\n",
       "      <td>3</td>\n",
       "      <td>1</td>\n",
       "      <td>Meltdown</td>\n",
       "    </tr>\n",
       "    <tr>\n",
       "      <th>3</th>\n",
       "      <td>4</td>\n",
       "      <td>Taylor Swift</td>\n",
       "      <td>6</td>\n",
       "      <td>4</td>\n",
       "      <td>13</td>\n",
       "      <td>Cruel Summer</td>\n",
       "    </tr>\n",
       "    <tr>\n",
       "      <th>4</th>\n",
       "      <td>5</td>\n",
       "      <td>Travis Scott Featuring Playboi Carti</td>\n",
       "      <td>-</td>\n",
       "      <td>5</td>\n",
       "      <td>1</td>\n",
       "      <td>FE!N</td>\n",
       "    </tr>\n",
       "    <tr>\n",
       "      <th>...</th>\n",
       "      <td>...</td>\n",
       "      <td>...</td>\n",
       "      <td>...</td>\n",
       "      <td>...</td>\n",
       "      <td>...</td>\n",
       "      <td>...</td>\n",
       "    </tr>\n",
       "    <tr>\n",
       "      <th>95</th>\n",
       "      <td>96</td>\n",
       "      <td>Young Thug Featuring Drake</td>\n",
       "      <td>66</td>\n",
       "      <td>19</td>\n",
       "      <td>6</td>\n",
       "      <td>Oh U Went</td>\n",
       "    </tr>\n",
       "    <tr>\n",
       "      <th>96</th>\n",
       "      <td>97</td>\n",
       "      <td>Coco Jones</td>\n",
       "      <td>71</td>\n",
       "      <td>62</td>\n",
       "      <td>18</td>\n",
       "      <td>ICU</td>\n",
       "    </tr>\n",
       "    <tr>\n",
       "      <th>97</th>\n",
       "      <td>98</td>\n",
       "      <td>Sexyy Red &amp; Tay Keith &amp; Nicki Minaj</td>\n",
       "      <td>74</td>\n",
       "      <td>66</td>\n",
       "      <td>9</td>\n",
       "      <td>Pound Town 2</td>\n",
       "    </tr>\n",
       "    <tr>\n",
       "      <th>98</th>\n",
       "      <td>99</td>\n",
       "      <td>Bizarrap &amp; Peso Pluma</td>\n",
       "      <td>72</td>\n",
       "      <td>31</td>\n",
       "      <td>9</td>\n",
       "      <td>Bzrp Music Sessions, Vol. 55</td>\n",
       "    </tr>\n",
       "    <tr>\n",
       "      <th>99</th>\n",
       "      <td>100</td>\n",
       "      <td>That Mexican OT, Paul Wall &amp; DRODi</td>\n",
       "      <td>96</td>\n",
       "      <td>96</td>\n",
       "      <td>3</td>\n",
       "      <td>Johnny Dang</td>\n",
       "    </tr>\n",
       "  </tbody>\n",
       "</table>\n",
       "<p>100 rows × 6 columns</p>\n",
       "</div>"
      ],
      "text/plain": [
       "   Rank                                Artist Last Week Peak Pos.   \n",
       "0     1                         Morgan Wallen         2         1  \\\n",
       "1     2                            Luke Combs         3         2   \n",
       "2     3          Travis Scott Featuring Drake         -         3   \n",
       "3     4                          Taylor Swift         6         4   \n",
       "4     5  Travis Scott Featuring Playboi Carti         -         5   \n",
       "..  ...                                   ...       ...       ...   \n",
       "95   96            Young Thug Featuring Drake        66        19   \n",
       "96   97                            Coco Jones        71        62   \n",
       "97   98   Sexyy Red & Tay Keith & Nicki Minaj        74        66   \n",
       "98   99                 Bizarrap & Peso Pluma        72        31   \n",
       "99  100    That Mexican OT, Paul Wall & DRODi        96        96   \n",
       "\n",
       "   Wks on Chart                          Song  \n",
       "0            27                    Last Night  \n",
       "1            19                      Fast Car  \n",
       "2             1                      Meltdown  \n",
       "3            13                  Cruel Summer  \n",
       "4             1                          FE!N  \n",
       "..          ...                           ...  \n",
       "95            6                     Oh U Went  \n",
       "96           18                           ICU  \n",
       "97            9                  Pound Town 2  \n",
       "98            9  Bzrp Music Sessions, Vol. 55  \n",
       "99            3                   Johnny Dang  \n",
       "\n",
       "[100 rows x 6 columns]"
      ]
     },
     "execution_count": 33,
     "metadata": {},
     "output_type": "execute_result"
    }
   ],
   "source": [
    "final_data"
   ]
  },
  {
   "cell_type": "code",
   "execution_count": 34,
   "id": "fbcf0e05-f397-4489-89e4-7adecaf687b6",
   "metadata": {},
   "outputs": [],
   "source": [
    "cols = ['Rank', 'Song', 'Artist', 'Last Week', 'Peak Pos.', 'Wks on Chart']"
   ]
  },
  {
   "cell_type": "code",
   "execution_count": 35,
   "id": "c9e33d33-c8b6-43ed-921a-92bac25bdd25",
   "metadata": {},
   "outputs": [],
   "source": [
    "final_data = final_data[cols]"
   ]
  },
  {
   "cell_type": "code",
   "execution_count": 36,
   "id": "7525dec8-6864-404b-bc66-730af1bef632",
   "metadata": {},
   "outputs": [
    {
     "data": {
      "text/html": [
       "<div>\n",
       "<style scoped>\n",
       "    .dataframe tbody tr th:only-of-type {\n",
       "        vertical-align: middle;\n",
       "    }\n",
       "\n",
       "    .dataframe tbody tr th {\n",
       "        vertical-align: top;\n",
       "    }\n",
       "\n",
       "    .dataframe thead th {\n",
       "        text-align: right;\n",
       "    }\n",
       "</style>\n",
       "<table border=\"1\" class=\"dataframe\">\n",
       "  <thead>\n",
       "    <tr style=\"text-align: right;\">\n",
       "      <th></th>\n",
       "      <th>Rank</th>\n",
       "      <th>Song</th>\n",
       "      <th>Artist</th>\n",
       "      <th>Last Week</th>\n",
       "      <th>Peak Pos.</th>\n",
       "      <th>Wks on Chart</th>\n",
       "    </tr>\n",
       "  </thead>\n",
       "  <tbody>\n",
       "    <tr>\n",
       "      <th>0</th>\n",
       "      <td>1</td>\n",
       "      <td>Last Night</td>\n",
       "      <td>Morgan Wallen</td>\n",
       "      <td>2</td>\n",
       "      <td>1</td>\n",
       "      <td>27</td>\n",
       "    </tr>\n",
       "    <tr>\n",
       "      <th>1</th>\n",
       "      <td>2</td>\n",
       "      <td>Fast Car</td>\n",
       "      <td>Luke Combs</td>\n",
       "      <td>3</td>\n",
       "      <td>2</td>\n",
       "      <td>19</td>\n",
       "    </tr>\n",
       "    <tr>\n",
       "      <th>2</th>\n",
       "      <td>3</td>\n",
       "      <td>Meltdown</td>\n",
       "      <td>Travis Scott Featuring Drake</td>\n",
       "      <td>-</td>\n",
       "      <td>3</td>\n",
       "      <td>1</td>\n",
       "    </tr>\n",
       "    <tr>\n",
       "      <th>3</th>\n",
       "      <td>4</td>\n",
       "      <td>Cruel Summer</td>\n",
       "      <td>Taylor Swift</td>\n",
       "      <td>6</td>\n",
       "      <td>4</td>\n",
       "      <td>13</td>\n",
       "    </tr>\n",
       "    <tr>\n",
       "      <th>4</th>\n",
       "      <td>5</td>\n",
       "      <td>FE!N</td>\n",
       "      <td>Travis Scott Featuring Playboi Carti</td>\n",
       "      <td>-</td>\n",
       "      <td>5</td>\n",
       "      <td>1</td>\n",
       "    </tr>\n",
       "    <tr>\n",
       "      <th>...</th>\n",
       "      <td>...</td>\n",
       "      <td>...</td>\n",
       "      <td>...</td>\n",
       "      <td>...</td>\n",
       "      <td>...</td>\n",
       "      <td>...</td>\n",
       "    </tr>\n",
       "    <tr>\n",
       "      <th>95</th>\n",
       "      <td>96</td>\n",
       "      <td>Oh U Went</td>\n",
       "      <td>Young Thug Featuring Drake</td>\n",
       "      <td>66</td>\n",
       "      <td>19</td>\n",
       "      <td>6</td>\n",
       "    </tr>\n",
       "    <tr>\n",
       "      <th>96</th>\n",
       "      <td>97</td>\n",
       "      <td>ICU</td>\n",
       "      <td>Coco Jones</td>\n",
       "      <td>71</td>\n",
       "      <td>62</td>\n",
       "      <td>18</td>\n",
       "    </tr>\n",
       "    <tr>\n",
       "      <th>97</th>\n",
       "      <td>98</td>\n",
       "      <td>Pound Town 2</td>\n",
       "      <td>Sexyy Red &amp; Tay Keith &amp; Nicki Minaj</td>\n",
       "      <td>74</td>\n",
       "      <td>66</td>\n",
       "      <td>9</td>\n",
       "    </tr>\n",
       "    <tr>\n",
       "      <th>98</th>\n",
       "      <td>99</td>\n",
       "      <td>Bzrp Music Sessions, Vol. 55</td>\n",
       "      <td>Bizarrap &amp; Peso Pluma</td>\n",
       "      <td>72</td>\n",
       "      <td>31</td>\n",
       "      <td>9</td>\n",
       "    </tr>\n",
       "    <tr>\n",
       "      <th>99</th>\n",
       "      <td>100</td>\n",
       "      <td>Johnny Dang</td>\n",
       "      <td>That Mexican OT, Paul Wall &amp; DRODi</td>\n",
       "      <td>96</td>\n",
       "      <td>96</td>\n",
       "      <td>3</td>\n",
       "    </tr>\n",
       "  </tbody>\n",
       "</table>\n",
       "<p>100 rows × 6 columns</p>\n",
       "</div>"
      ],
      "text/plain": [
       "   Rank                          Song                                Artist   \n",
       "0     1                    Last Night                         Morgan Wallen  \\\n",
       "1     2                      Fast Car                            Luke Combs   \n",
       "2     3                      Meltdown          Travis Scott Featuring Drake   \n",
       "3     4                  Cruel Summer                          Taylor Swift   \n",
       "4     5                          FE!N  Travis Scott Featuring Playboi Carti   \n",
       "..  ...                           ...                                   ...   \n",
       "95   96                     Oh U Went            Young Thug Featuring Drake   \n",
       "96   97                           ICU                            Coco Jones   \n",
       "97   98                  Pound Town 2   Sexyy Red & Tay Keith & Nicki Minaj   \n",
       "98   99  Bzrp Music Sessions, Vol. 55                 Bizarrap & Peso Pluma   \n",
       "99  100                   Johnny Dang    That Mexican OT, Paul Wall & DRODi   \n",
       "\n",
       "   Last Week Peak Pos. Wks on Chart  \n",
       "0          2         1           27  \n",
       "1          3         2           19  \n",
       "2          -         3            1  \n",
       "3          6         4           13  \n",
       "4          -         5            1  \n",
       "..       ...       ...          ...  \n",
       "95        66        19            6  \n",
       "96        71        62           18  \n",
       "97        74        66            9  \n",
       "98        72        31            9  \n",
       "99        96        96            3  \n",
       "\n",
       "[100 rows x 6 columns]"
      ]
     },
     "execution_count": 36,
     "metadata": {},
     "output_type": "execute_result"
    }
   ],
   "source": [
    "final_data"
   ]
  },
  {
   "cell_type": "code",
   "execution_count": 37,
   "id": "773fa426-7f64-4b5b-846f-df824c4d22d6",
   "metadata": {},
   "outputs": [],
   "source": [
    "final_data.to_csv('./songs.csv')"
   ]
  },
  {
   "cell_type": "code",
   "execution_count": null,
   "id": "30fcbc90-1350-4866-bb0a-1d3a7fa056ef",
   "metadata": {},
   "outputs": [],
   "source": []
  }
 ],
 "metadata": {
  "kernelspec": {
   "display_name": "ironhack",
   "language": "python",
   "name": "ironhack"
  },
  "language_info": {
   "codemirror_mode": {
    "name": "ipython",
    "version": 3
   },
   "file_extension": ".py",
   "mimetype": "text/x-python",
   "name": "python",
   "nbconvert_exporter": "python",
   "pygments_lexer": "ipython3",
   "version": "3.9.2"
  }
 },
 "nbformat": 4,
 "nbformat_minor": 5
}
